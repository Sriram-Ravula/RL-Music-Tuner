{
  "nbformat": 4,
  "nbformat_minor": 0,
  "metadata": {
    "colab": {
      "name": "midi_convert.ipynb",
      "provenance": [],
      "collapsed_sections": []
    },
    "kernelspec": {
      "name": "python3",
      "display_name": "Python 3"
    }
  },
  "cells": [
    {
      "cell_type": "code",
      "metadata": {
        "id": "5ph6naWppRlV",
        "colab_type": "code",
        "outputId": "c39ef517-2682-41e8-f75c-7638a3bb2839",
        "colab": {
          "base_uri": "https://localhost:8080/",
          "height": 121
        }
      },
      "source": [
        "\"\"\"\n",
        "Notes for reading commments in this file:\n",
        "1) if there's a variable called 'count', I will used $count to denote the value stored in the variable count\n",
        "2) 'pitch' refers to a specific type of drum sound. for example, pitch 36 may refer to a snare sound (or whatever percussion sound it actually is)\n",
        "\"\"\"\n",
        "\n",
        "from google.colab import drive\n",
        "drive.mount('/content/gdrive')"
      ],
      "execution_count": 1,
      "outputs": [
        {
          "output_type": "stream",
          "text": [
            "Go to this URL in a browser: https://accounts.google.com/o/oauth2/auth?client_id=947318989803-6bn6qk8qdgf4n4g3pfee6491hc0brc4i.apps.googleusercontent.com&redirect_uri=urn%3aietf%3awg%3aoauth%3a2.0%3aoob&response_type=code&scope=email%20https%3a%2f%2fwww.googleapis.com%2fauth%2fdocs.test%20https%3a%2f%2fwww.googleapis.com%2fauth%2fdrive%20https%3a%2f%2fwww.googleapis.com%2fauth%2fdrive.photos.readonly%20https%3a%2f%2fwww.googleapis.com%2fauth%2fpeopleapi.readonly\n",
            "\n",
            "Enter your authorization code:\n",
            "··········\n",
            "Mounted at /content/gdrive\n"
          ],
          "name": "stdout"
        }
      ]
    },
    {
      "cell_type": "code",
      "metadata": {
        "id": "HTTjCrHx9Vu-",
        "colab_type": "code",
        "colab": {}
      },
      "source": [
        "import os\n",
        "\n",
        "\"\"\"\n",
        "Due to the nature of file systems in Google Drive, the 'My Drive' directory is actually\n",
        "what you see when you open google drive. And to access it through colab (for read and write),\n",
        "you need to run the mount command (which is in the first code segment at the top of this ipynb file).\n",
        "\n",
        "curdir has the directory that I put this ipynb file in.\n",
        "savedir is the directory I'm saving all the .mid and .npy files to.\n",
        "\n",
        "Notice that the last line of one_hot_to_midi() function uses savedir to save the midi file.\n",
        "Saving the .npy files also uses savedir\n",
        "\"\"\"\n",
        "curdir = os.getcwd()+'/gdrive/My Drive/Colab Notebooks/'\n",
        "savedir = os.getcwd()+'/gdrive/My Drive/Colab Notebooks/MIDI/'"
      ],
      "execution_count": 0,
      "outputs": []
    },
    {
      "cell_type": "code",
      "metadata": {
        "id": "bmxCQkSmx9n_",
        "colab_type": "code",
        "outputId": "aad97b5f-0616-48b2-95a4-5ced98e3cec9",
        "colab": {
          "base_uri": "https://localhost:8080/",
          "height": 67
        }
      },
      "source": [
        "\"\"\"\n",
        "Just run this code to download all the 2-bar midi tracks.\n",
        "\"\"\"\n",
        "\n",
        "import tensorflow_datasets as tfds\n",
        "import tensorflow as tf\n",
        "\n",
        "import numpy as np\n",
        "\n",
        "# Colab/Notebook specific stuff\n",
        "import IPython.display\n",
        "from IPython.display import Audio\n",
        "from google.colab import files\n",
        "\n",
        "# Magenta specific stuff\n",
        "from magenta.models.music_vae import configs\n",
        "from magenta.models.music_vae.trained_model import TrainedModel\n",
        "from magenta import music as mm\n",
        "from magenta.music import midi_synth\n",
        "from magenta.music.sequences_lib import concatenate_sequences\n",
        "from magenta.models.music_vae import data\n",
        "from magenta.protobuf import music_pb2\n",
        "\n",
        "# Some midi files come by default from different instrument channels\n",
        "# Quick and dirty way to set midi files to be recognized as drums\n",
        "def set_to_drums(ns):\n",
        "  for n in ns.notes:\n",
        "    n.instrument=9\n",
        "    n.is_drum = True\n",
        "\n",
        "def download(note_sequence, filename):\n",
        "  mm.sequence_proto_to_midi_file(note_sequence, filename)\n",
        "  files.download(filename)\n",
        "\n",
        "# Calculate quantization steps but do not remove microtiming\n",
        "def quantize(s, steps_per_quarter=4):\n",
        "  return mm.sequences_lib.quantize_note_sequence(s,steps_per_quarter)\n",
        "\n",
        "def is_4_4(s):\n",
        "  ts = s.time_signatures[0]\n",
        "  return (ts.numerator == 4 and ts.denominator ==4)\n",
        "\n",
        "print(\"Download MIDI data...\")\n",
        "\n",
        "dataset_2bar = tfds.as_numpy(tfds.load(\n",
        "    name=\"groove/2bar-midionly\",\n",
        "    split=tfds.Split.TRAIN,\n",
        "    try_gcs=True))\n",
        "\n",
        "trax = [features for features in dataset_2bar]\n",
        "styles = [t['style'] for t in trax]\n",
        "primary_styles = [s['primary'] for s in styles]\n",
        "unique, counts = np.unique(primary_styles, return_counts=True)\n",
        "print(unique[np.argmax(counts)]) # 16 = rock\n",
        "rock_idx = []\n",
        "for i in range(len(primary_styles)):\n",
        "  if primary_styles[i] == 16:\n",
        "    rock_idx.append(i)\n",
        "\n",
        "print(\"Download MIDI data again...\")\n",
        "\n",
        "dataset_2bar = tfds.as_numpy(tfds.load(\n",
        "    name=\"groove/2bar-midionly\",\n",
        "    split=tfds.Split.TRAIN,\n",
        "    try_gcs=True))\n",
        "\n",
        "dev_sequences = [quantize(mm.midi_to_note_sequence(features[\"midi\"])) for features in dataset_2bar]\n",
        "print(\"Filtering out rock-style tracks...\")\n",
        "dev_sequences = [dev_sequences[i] for i in rock_idx]\n",
        "\n",
        "_ = [set_to_drums(s) for s in dev_sequences]\n",
        "dev_sequences = [s for s in dev_sequences if is_4_4(s) and len(s.notes) > 0 and s.notes[-1].quantized_end_step > mm.steps_per_bar_in_quantized_sequence(s)]"
      ],
      "execution_count": 48,
      "outputs": [
        {
          "output_type": "stream",
          "text": [
            "Download MIDI data...\n",
            "16\n",
            "Download MIDI data again...\n"
          ],
          "name": "stdout"
        }
      ]
    },
    {
      "cell_type": "code",
      "metadata": {
        "id": "JcwrcSV4yXng",
        "colab_type": "code",
        "colab": {}
      },
      "source": [
        "\"\"\"\n",
        "maps all possible pitches down to 9 different pitches\n",
        "\"\"\"\n",
        "pitch_map = {\n",
        "    36 : 36,\n",
        "    38 : 38,\n",
        "    40 : 38,\n",
        "    37 : 38,\n",
        "    48 : 50,\n",
        "    50 : 50,\n",
        "    45 : 47,\n",
        "    47 : 47,\n",
        "    43 : 43,\n",
        "    58 : 43,\n",
        "    46 : 46,\n",
        "    26 : 46,\n",
        "    42 : 42,\n",
        "    22 : 42,\n",
        "    44 : 42,\n",
        "    49 : 49,\n",
        "    55 : 49,\n",
        "    57 : 49,\n",
        "    52 : 49,\n",
        "    51 : 51,\n",
        "    59 : 51,\n",
        "    53 : 51\n",
        "}\n",
        "\n",
        "\"\"\"\n",
        "maps pitches to their respective indices in the one_hot encoding of a track\n",
        "\"\"\"\n",
        "adjusted_pitch_to_index_map = {\n",
        "    36 : 0,\n",
        "    38 : 1,\n",
        "    50 : 2,\n",
        "    47 : 3,\n",
        "    43 : 4,\n",
        "    46 : 5,\n",
        "    42 : 6,\n",
        "    49 : 7,\n",
        "    51 : 8,\n",
        "    0 : 9 # this isn't used but I put it here just to be safe\n",
        "}\n",
        "\n",
        "\"\"\"\n",
        "maps indices in the one_hot matrix to their respective pitches\n",
        "\"\"\"\n",
        "index_to_pitch_map = {\n",
        "    0 : 36,\n",
        "    1 : 38,\n",
        "    2 : 50,\n",
        "    3 : 47,\n",
        "    4 : 43,\n",
        "    5 : 46,\n",
        "    6 : 42,\n",
        "    7 : 49,\n",
        "    8 : 51,\n",
        "    9 : 0 # value 0 is not defined on channel 9 so it's just silence (channel 9 is for drums)\n",
        "}\n",
        "\n",
        "def convert_pitch(pitch):\n",
        "    return pitch_map[pitch]\n",
        "\n",
        "\"\"\"\n",
        "Input: tempo in terms of microseconds per quarter/fourth beat\n",
        "Output: tempo in terns of beats per minute (bpm)\n",
        "\"\"\"\n",
        "def convert_tempo(tempo):\n",
        "    return 60 / tempo / 1000000\n",
        "\n",
        "def pitch_to_index(pitch):\n",
        "    return adjusted_pitch_to_index_map[pitch]\n",
        "\n",
        "def index_to_pitch(index):\n",
        "    return index_to_pitch_map[index]\n",
        "\n",
        "\"\"\"\n",
        "Input: time in seconds, tempo\n",
        "output: n, for the nth sixteenth beat that the time value falls into (for that specific tempo) n is 0...15\n",
        "\"\"\"\n",
        "def time_to_sixteeth_interval(time, tempo):\n",
        "  return np.floor(time / (60 / (tempo * 4)))\n",
        "\n",
        "def filter_rock_tracks(ds):\n",
        "  return ds[rock_idx]"
      ],
      "execution_count": 0,
      "outputs": []
    },
    {
      "cell_type": "code",
      "metadata": {
        "id": "_4B2QD1SnTmQ",
        "colab_type": "code",
        "colab": {
          "base_uri": "https://localhost:8080/",
          "height": 34
        },
        "outputId": "835a86dc-77a9-43a0-e07c-f43d6418971c"
      },
      "source": [
        "np.max(rock_idx)\n",
        "len(primary_styles)\n",
        "len(trax)"
      ],
      "execution_count": 47,
      "outputs": [
        {
          "output_type": "execute_result",
          "data": {
            "text/plain": [
              "18163"
            ]
          },
          "metadata": {
            "tags": []
          },
          "execution_count": 47
        }
      ]
    },
    {
      "cell_type": "code",
      "metadata": {
        "id": "07kG0xalyETL",
        "colab_type": "code",
        "colab": {}
      },
      "source": [
        "\"\"\"\n",
        "num_tracks refers to the number of 2-bar midi tracks in the loaded dataset\n",
        "total_beats is the number of 16th beats in each track, which should be 32 in our case (2 bars of 16 16th beats each)\n",
        "num_instruments is 9 + silence = 10\n",
        "\"\"\"\n",
        "num_tracks = len(dev_sequences)\n",
        "num_instruments = 10\n",
        "total_beats = 32\n",
        "\n",
        "\"\"\"\n",
        "Limits the number of tracks to encode, just for testing purposes. If you want to encode all the tracks,\n",
        "just remove it from the line that reads:\n",
        "for i, midi_track in enumerate(dev_sequences[:limiter]):\n",
        "\n",
        "Change it to:\n",
        "for i, midi_track in enumerate(dev_sequences):\n",
        "\n",
        "In the training set, there are 16389 tracks.\n",
        "\"\"\"\n",
        "limiter = 16389\n",
        "\n",
        "\"\"\"\n",
        "tracks_one_hot stores a list of one-hot encodings for each track in a 3-d structure.\n",
        "Each one-hot encoding has 32x10 structure - self-explanatory.\n",
        "\n",
        "tracks_seq stores a list of pitch sequences in a 2-d structure.\n",
        "For example, tracks_seq[0] may contain:\n",
        "[36,0,42,0,36,0,42,36,36,0,38,...] (32 elements total)\n",
        "\n",
        "and tracks_seq would contain $num_tracks of these types of sequences\n",
        "\"\"\"\n",
        "tracks_one_hot = np.zeros((limiter, num_instruments, total_beats))\n",
        "tracks_seq = np.zeros((limiter, total_beats))\n",
        "\n",
        "\"\"\"\n",
        "The following code will get one_hot encodings for $limiter 2-bar midi tracks.\n",
        "After running it, the first $limiter entries in tracks_one_hot and tracks_seq\n",
        "will have values. The rest of the entries will be zeroes.\n",
        "\"\"\"\n",
        "\n",
        "for i, midi_track in enumerate(dev_sequences[:limiter]): # remove limiter, if you want\n",
        "  note_intervals = [[] for _ in range(total_beats)] # list of possible (note, velocity) pairs for each sixteenth beat\n",
        "  tempo = midi_track.tempos\n",
        "  \n",
        "  if len(tempo) == 1:\n",
        "    tempo = tempo[0]\n",
        "  else: # if there are 0, or >2 tempo markings, skip the track for now\n",
        "    continue\n",
        "\n",
        "  # Puts all the notes into corresponding 16th beat interval groups\n",
        "  for note in midi_track.notes:\n",
        "    note_pitch = convert_pitch(note.pitch)\n",
        "    note_velocity = note.velocity\n",
        "\n",
        "    note_start_step = note.quantized_start_step\n",
        "    note_end_step = note.quantized_end_step\n",
        "\n",
        "    # note_intervals[sixteenth beat index] appends a (pitch, velocity) tuple\n",
        "    if note_start_step > 31:\n",
        "      note_start_step = 31\n",
        "    note_intervals[note_start_step].append((note_pitch, note_velocity))\n",
        "\n",
        "  # Choose 1 note in each of the 16th beat interval groups, based on highest velocity\n",
        "  for b in range(total_beats):\n",
        "    candidates = note_intervals[b]\n",
        "    \n",
        "    converted_note_index = 9 # 9 is default, for \"no drum\"\n",
        "    if len(candidates) > 0:\n",
        "      highest_velocity_index = np.argmax([c[1] for c in candidates])\n",
        "      selected_note = candidates[highest_velocity_index]\n",
        "      converted_note_index = pitch_to_index(selected_note[0])\n",
        "    tracks_one_hot[i, converted_note_index, b] = 1\n",
        "    tracks_seq[i, b] = index_to_pitch(converted_note_index)"
      ],
      "execution_count": 0,
      "outputs": []
    },
    {
      "cell_type": "code",
      "metadata": {
        "id": "6at3PgykkgDM",
        "colab_type": "code",
        "colab": {
          "base_uri": "https://localhost:8080/",
          "height": 67
        },
        "outputId": "b11ff583-3fe4-423d-d476-f23d8367f997"
      },
      "source": [
        "tracks_seq[0]"
      ],
      "execution_count": 51,
      "outputs": [
        {
          "output_type": "execute_result",
          "data": {
            "text/plain": [
              "array([ 0.,  0., 42.,  0., 38.,  0., 42., 38., 46., 38.,  0.,  0., 38.,\n",
              "       38., 38., 38., 49.,  0., 46.,  0., 38.,  0., 49.,  0., 42.,  0.,\n",
              "       38.,  0., 42.,  0., 36.,  0.])"
            ]
          },
          "metadata": {
            "tags": []
          },
          "execution_count": 51
        }
      ]
    },
    {
      "cell_type": "code",
      "metadata": {
        "id": "0riV0h_Z83jJ",
        "colab_type": "code",
        "colab": {}
      },
      "source": [
        "\"\"\"\n",
        "Saves tracks_one_hot to tracks_one_hot.npy\n",
        "Saves tracks_seq to tracks_seq.npy\n",
        "\"\"\"\n",
        "\n",
        "np.save(savedir + 'tracks_one_hot_' + str(limiter) + '.npy', tracks_one_hot)\n",
        "np.save(savedir + 'tracks_seq_' + str(limiter) + '.npy', tracks_seq)"
      ],
      "execution_count": 0,
      "outputs": []
    },
    {
      "cell_type": "code",
      "metadata": {
        "id": "EzUFX5_5mKHp",
        "colab_type": "code",
        "colab": {}
      },
      "source": [
        "from mido import Message, MidiFile, MidiTrack\n",
        "\n",
        "\"\"\"\n",
        "Input: one hot track, aka a single element from tracks_one_hot.\n",
        "       filename, ending with '.mid'\n",
        "Purpose: Saves a midi file\n",
        "Output: None\n",
        "Example Usage: one_hot_to_midi(tracks_one_hot[i], midi_filename='song.mid')\n",
        "\"\"\"\n",
        "def one_hot_to_midi(one_hot, midi_filename = 'song.mid'):\n",
        "  mid = MidiFile()\n",
        "  track = MidiTrack()\n",
        "  mid.tracks.append(track)\n",
        "\n",
        "  pitch = 36\n",
        "  duration = 128\n",
        "  velocity = 64\n",
        "\n",
        "  track.append(Message('program_change', program=12, time=0))\n",
        "\n",
        "  #for sb in one_hot:\n",
        "  for i in range(one_hot.shape[1]):\n",
        "    sb = one_hot[:,i]\n",
        "  \n",
        "    pitch = int(index_to_pitch(np.argmax(sb)))\n",
        "    track.append(Message('note_on', channel=9, note=pitch, velocity=64, time=duration))\n",
        "    track.append(Message('note_off', channel=9, note=pitch, velocity=127, time=duration))\n",
        "\n",
        "  mid.save(savedir + midi_filename)"
      ],
      "execution_count": 0,
      "outputs": []
    },
    {
      "cell_type": "code",
      "metadata": {
        "id": "XajfFkcml7Ao",
        "colab_type": "code",
        "colab": {}
      },
      "source": [
        "\"\"\"\n",
        "Example: Saves $limiter midi files to the curdir directory\n",
        "\"\"\"\n",
        "for i in range(limiter):\n",
        "  one_hot_to_midi(tracks_one_hot[i], midi_filename='song'+str(i)+'.mid')"
      ],
      "execution_count": 0,
      "outputs": []
    },
    {
      "cell_type": "code",
      "metadata": {
        "id": "q138gs3twucW",
        "colab_type": "code",
        "colab": {}
      },
      "source": [
        ""
      ],
      "execution_count": 0,
      "outputs": []
    }
  ]
}